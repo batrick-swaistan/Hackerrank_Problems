{
 "cells": [
  {
   "cell_type": "markdown",
   "id": "0fa65134",
   "metadata": {},
   "source": [
    "Maria plays college basketball and wants to go pro. Each season she maintains a record of her play. She tabulates the number of times she breaks her season record for most points and least points in a game. Points scored in the first game establish her record for the season, and she begins counting from there.\n",
    "\n",
    "Given the scores for a season, determine the number of times Maria breaks her records for most and least points scored during the season."
   ]
  },
  {
   "cell_type": "code",
   "execution_count": 7,
   "id": "bf584e2c",
   "metadata": {},
   "outputs": [
    {
     "data": {
      "text/plain": [
       "(1, 1)"
      ]
     },
     "execution_count": 7,
     "metadata": {},
     "output_type": "execute_result"
    }
   ],
   "source": [
    "def breakingRecords(scores):\n",
    "    count_min=0\n",
    "    count_max=0\n",
    "    \n",
    "    temp_min=scores[0]\n",
    "    temp_max=scores[0]\n",
    "    for i in scores:\n",
    "        if temp_min < i:\n",
    "            count_min +=1\n",
    "            temp_min=i\n",
    "        elif temp_max > i:\n",
    "            count_max +=1\n",
    "            temp_max=i\n",
    "    return count_min,count_max\n",
    "breakingRecords([12,24,10,24])"
   ]
  },
  {
   "cell_type": "code",
   "execution_count": null,
   "id": "da368620",
   "metadata": {},
   "outputs": [],
   "source": []
  }
 ],
 "metadata": {
  "kernelspec": {
   "display_name": "Python 3 (ipykernel)",
   "language": "python",
   "name": "python3"
  },
  "language_info": {
   "codemirror_mode": {
    "name": "ipython",
    "version": 3
   },
   "file_extension": ".py",
   "mimetype": "text/x-python",
   "name": "python",
   "nbconvert_exporter": "python",
   "pygments_lexer": "ipython3",
   "version": "3.9.2"
  }
 },
 "nbformat": 4,
 "nbformat_minor": 5
}
