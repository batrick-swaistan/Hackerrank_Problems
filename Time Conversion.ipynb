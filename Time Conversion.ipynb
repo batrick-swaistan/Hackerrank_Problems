{
 "cells": [
  {
   "cell_type": "markdown",
   "id": "08877649",
   "metadata": {},
   "source": [
    "Given a time in -hour AM/PM format, convert it to military (24-hour) time.\n",
    "\n",
    "Note: - 12:00:00AM on a 12-hour clock is 00:00:00 on a 24-hour clock.\n",
    "- 12:00:00PM on a 12-hour clock is 12:00:00 on a 24-hour clock."
   ]
  },
  {
   "cell_type": "code",
   "execution_count": 11,
   "id": "5523e958",
   "metadata": {},
   "outputs": [
    {
     "data": {
      "text/plain": [
       "'19:05:45'"
      ]
     },
     "execution_count": 11,
     "metadata": {},
     "output_type": "execute_result"
    }
   ],
   "source": [
    "def timeconversion(time):\n",
    "    meridian= time[-2:]\n",
    "    \n",
    "    if meridian=='AM':\n",
    "        hours =int(time[:2]) % 12\n",
    "    else:\n",
    "        hours=(int(time[:2])%12) + 12\n",
    "    hours=str(hours).zfill(2)\n",
    "    return hours + time[2:-2]\n",
    "timeconversion('07:05:45PM')"
   ]
  },
  {
   "cell_type": "code",
   "execution_count": null,
   "id": "a12c50ef",
   "metadata": {},
   "outputs": [],
   "source": []
  }
 ],
 "metadata": {
  "kernelspec": {
   "display_name": "Python 3 (ipykernel)",
   "language": "python",
   "name": "python3"
  },
  "language_info": {
   "codemirror_mode": {
    "name": "ipython",
    "version": 3
   },
   "file_extension": ".py",
   "mimetype": "text/x-python",
   "name": "python",
   "nbconvert_exporter": "python",
   "pygments_lexer": "ipython3",
   "version": "3.9.2"
  }
 },
 "nbformat": 4,
 "nbformat_minor": 5
}
