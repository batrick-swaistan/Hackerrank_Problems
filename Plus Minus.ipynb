{
 "cells": [
  {
   "cell_type": "markdown",
   "id": "c4c9a24c",
   "metadata": {},
   "source": [
    "Given an array of integers, calculate the ratios of its elements that are positive, negative, and zero. Print the decimal value of each fraction on a new line with 6 places after the decimal.\n",
    "\n",
    "Example:\n",
    "arr=[1,2,0,-1,-2]\n",
    "There are n=5 elements, two positive, two negative and one zero. Their ratios are 2/5= 0.400000 and 2/5 = 0.400000 and 1/5=0.200000"
   ]
  },
  {
   "cell_type": "code",
   "execution_count": 5,
   "id": "bebdf422",
   "metadata": {},
   "outputs": [],
   "source": [
    "def plusMinus(arr):\n",
    "    positive=0\n",
    "    negative=0\n",
    "    zero=0\n",
    "    for num in arr:\n",
    "        if num >0:\n",
    "            positive +=1\n",
    "        elif num <0:\n",
    "            negative +=1\n",
    "        elif num == 0:\n",
    "            zero +=1\n",
    "    print(round(positive/len(arr),6))\n",
    "    print(round(negative/len(arr),6))\n",
    "    print(round(zero/len(arr),6))"
   ]
  },
  {
   "cell_type": "code",
   "execution_count": 6,
   "id": "1835f86c",
   "metadata": {},
   "outputs": [
    {
     "name": "stdout",
     "output_type": "stream",
     "text": [
      "0.4\n",
      "0.4\n",
      "0.2\n"
     ]
    }
   ],
   "source": [
    "plusMinus([1,2,0,-1,-2])"
   ]
  }
 ],
 "metadata": {
  "kernelspec": {
   "display_name": "Python 3 (ipykernel)",
   "language": "python",
   "name": "python3"
  },
  "language_info": {
   "codemirror_mode": {
    "name": "ipython",
    "version": 3
   },
   "file_extension": ".py",
   "mimetype": "text/x-python",
   "name": "python",
   "nbconvert_exporter": "python",
   "pygments_lexer": "ipython3",
   "version": "3.9.2"
  }
 },
 "nbformat": 4,
 "nbformat_minor": 5
}
